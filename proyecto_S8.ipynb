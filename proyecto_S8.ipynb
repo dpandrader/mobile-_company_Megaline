{
 "cells": [
  {
   "cell_type": "markdown",
   "metadata": {},
   "source": [
    "INTRODUCCION\n",
    "\n",
    "El proposito de este proyecto es desarrollar un modelo de machine learning que permita a Megaline ofrecer recomendaciones personalizadas a sus clientes, mejorando así la satisfacción del usuario y la rentabilidad de la compañía.\n",
    "\n",
    "Objetivo:\n",
    "\n",
    "-Crear un modelo con la mayor exactitud posible, que supere un umbral de exactitud del 75%.\n",
    "\n",
    "-Crear un modelo de clasificación que prediga si un cliente de Megaline debería cambiarse al plan Smart o Ultra.\n",
    "\n",
    "\n",
    "TABLA DE CONTENIDO\n",
    "\n",
    "Importación de librerias y modulos.\n",
    "Visualización de datos.\n",
    "Segmantacion de datos en un conjunto de entrenamiento.\n",
    "Encontrar el modelo adecuado.\n",
    "Comprobar la calidad de modelo.\n",
    "Conclusión."
   ]
  },
  {
   "cell_type": "markdown",
   "metadata": {},
   "source": [
    "1. Importación de librerias y módulos."
   ]
  },
  {
   "cell_type": "code",
   "execution_count": 2,
   "metadata": {},
   "outputs": [],
   "source": [
    "import pandas as pd\n",
    "import statistics\n",
    "from sklearn.tree import DecisionTreeClassifier\n",
    "from sklearn.ensemble import RandomForestClassifier\n",
    "from sklearn.linear_model import LogisticRegression\n",
    "from sklearn.model_selection import train_test_split\n",
    "from sklearn.metrics import accuracy_score"
   ]
  },
  {
   "cell_type": "markdown",
   "metadata": {},
   "source": [
    "2. Visualizacion de los datos"
   ]
  },
  {
   "cell_type": "code",
   "execution_count": 5,
   "metadata": {},
   "outputs": [],
   "source": [
    "df = pd.read_csv('users_behavior.csv')"
   ]
  },
  {
   "cell_type": "code",
   "execution_count": 6,
   "metadata": {},
   "outputs": [
    {
     "name": "stdout",
     "output_type": "stream",
     "text": [
      "   calls  minutes  messages   mb_used  is_ultra\n",
      "0   40.0   311.90      83.0  19915.42         0\n",
      "1   85.0   516.75      56.0  22696.96         0\n",
      "2   77.0   467.66      86.0  21060.45         0\n",
      "3  106.0   745.53      81.0   8437.39         1\n",
      "4   66.0   418.74       1.0  14502.75         0\n",
      "5   58.0   344.56      21.0  15823.37         0\n",
      "6   57.0   431.64      20.0   3738.90         1\n",
      "7   15.0   132.40       6.0  21911.60         0\n",
      "8    7.0    43.39       3.0   2538.67         1\n",
      "9   90.0   665.41      38.0  17358.61         0\n"
     ]
    }
   ],
   "source": [
    "print(df.head(10))"
   ]
  },
  {
   "cell_type": "code",
   "execution_count": 7,
   "metadata": {},
   "outputs": [
    {
     "name": "stdout",
     "output_type": "stream",
     "text": [
      "<class 'pandas.core.frame.DataFrame'>\n",
      "RangeIndex: 3214 entries, 0 to 3213\n",
      "Data columns (total 5 columns):\n",
      " #   Column    Non-Null Count  Dtype  \n",
      "---  ------    --------------  -----  \n",
      " 0   calls     3214 non-null   float64\n",
      " 1   minutes   3214 non-null   float64\n",
      " 2   messages  3214 non-null   float64\n",
      " 3   mb_used   3214 non-null   float64\n",
      " 4   is_ultra  3214 non-null   int64  \n",
      "dtypes: float64(4), int64(1)\n",
      "memory usage: 125.7 KB\n"
     ]
    }
   ],
   "source": [
    "df.info()"
   ]
  },
  {
   "cell_type": "markdown",
   "metadata": {},
   "source": [
    "3. Segmentación de datos en un conjunto de entrenamiento."
   ]
  },
  {
   "cell_type": "code",
   "execution_count": 9,
   "metadata": {},
   "outputs": [],
   "source": [
    "# Separar los datos de entrenamiento.\n",
    "\n",
    "df_train, df_resto = train_test_split(df, test_size=0.4, random_state=12345)\n",
    "\n",
    "features_train = df_train.drop(['is_ultra'], axis=1)\n",
    "target_train = df_train['is_ultra']\n",
    "\n",
    "# separar datos de validación y de prueba.\n",
    "\n",
    "df_valid, df_test = train_test_split(df_resto , test_size=0.5, random_state=12345)\n",
    "\n",
    "features_valid = df_valid.drop(['is_ultra'], axis=1)\n",
    "target_valid = df_valid['is_ultra']\n",
    "\n",
    "features_test = df_test.drop(['is_ultra'], axis=1)\n",
    "target_test = df_test['is_ultra']\n"
   ]
  },
  {
   "cell_type": "markdown",
   "metadata": {},
   "source": [
    "4. Encontrar el modelo adecuado."
   ]
  },
  {
   "cell_type": "markdown",
   "metadata": {},
   "source": [
    "Para este proyecto evaluo los 3 modelos de clasificación: Arbol de decisión con el hiperparametro(random_stare), Bosque Aleatorio con lños hiperparametros(random_state, n_estimators) y Regresión Logística y sus hiperparametros(random_state, solver=liblinear)."
   ]
  },
  {
   "cell_type": "code",
   "execution_count": 10,
   "metadata": {},
   "outputs": [
    {
     "name": "stdout",
     "output_type": "stream",
     "text": [
      "Exactitud de modelo Arbol de Decisión es: 0.713841368584759\n"
     ]
    }
   ],
   "source": [
    "# ARBOL DE DECISION\n",
    "\n",
    "model = DecisionTreeClassifier(random_state=12345)\n",
    "model.fit(features_train, target_train)\n",
    "predictions_valid =  model.predict(features_valid)\n",
    "\n",
    "print('Exactitud de modelo Arbol de Decisión es:', accuracy_score(target_valid, predictions_valid))"
   ]
  },
  {
   "cell_type": "code",
   "execution_count": 11,
   "metadata": {},
   "outputs": [
    {
     "name": "stdout",
     "output_type": "stream",
     "text": [
      "El mejor modelo para el Bosque Aleatorio tiene un n_estimator: 20 y una exactitud es de: 0.7869362363919129\n"
     ]
    }
   ],
   "source": [
    "# BOSQUE ALEATORIO\n",
    "\n",
    "n_estimators = [5, 10,  15, 20, 25, 30]\n",
    "best_score = 0\n",
    "best_estimator = None\n",
    "best_model = None\n",
    "\n",
    "\n",
    "for estimator in n_estimators:\n",
    "    model = RandomForestClassifier(random_state=12345, n_estimators=estimator) \n",
    "    model.fit(features_train, target_train)\n",
    "    predictions_valid =  model.predict(features_valid)\n",
    "\n",
    "    score = model.score(features_valid, target_valid) \n",
    "\n",
    "    if score > best_score:\n",
    "        best_estimator = estimator\n",
    "        best_model = model\n",
    "        best_score = score\n",
    "        \n",
    "print(f'El mejor modelo para el Bosque Aleatorio tiene un n_estimator: {best_estimator} y una exactitud es de: {best_score}')"
   ]
  },
  {
   "cell_type": "code",
   "execution_count": 12,
   "metadata": {},
   "outputs": [
    {
     "name": "stdout",
     "output_type": "stream",
     "text": [
      "Exactitud de modelo Regresion Logistican es: 0.7573872472783826\n"
     ]
    }
   ],
   "source": [
    "# REGRESION LOGISTICA\n",
    "    \n",
    "model = LogisticRegression(random_state=12345, solver = 'liblinear')\n",
    "model.fit(features_train, target_train) \n",
    "predictions_valid = model.predict(features_valid)\n",
    "\n",
    "\n",
    "print('Exactitud de modelo Regresion Logistican es:', accuracy_score(target_valid, predictions_valid))"
   ]
  },
  {
   "cell_type": "markdown",
   "metadata": {},
   "source": [
    "Para encontrar el modelo adecuado, utilicé tres modelos de clasificación: Árbol de Decisión, Bosque Aleatorio y Regresión Logística. Los probé con el conjunto de datos y calculé el promedio de exactitud de cada modelo. El mejor modelo debe superar el umbral de exactitud de 0.75. Teniendo en cuenta este umbral, el modelo de Bosques Aleatorios es el más indicado para resolver este ejercicio, con una exactitud de 0.786.\n"
   ]
  },
  {
   "cell_type": "markdown",
   "metadata": {},
   "source": [
    "5. Comprobar la calidad del modelo"
   ]
  },
  {
   "cell_type": "code",
   "execution_count": 13,
   "metadata": {},
   "outputs": [
    {
     "name": "stdout",
     "output_type": "stream",
     "text": [
      "La exactitud del conjunto de entrenamiento es: 0.9891078838174274\n",
      "La exactitud del conjunto de validación es: 0.7822706065318819\n",
      "La exactitud del conjunto de prueba es: 0.7822706065318819\n"
     ]
    }
   ],
   "source": [
    "best_model = RandomForestClassifier(random_state=12345, n_estimators=20) \n",
    "best_model.fit(features_train, target_train)\n",
    "\n",
    "print('La exactitud del conjunto de entrenamiento es:', best_model.score(features_train, target_train))\n",
    "print('La exactitud del conjunto de validación es:', best_model.score(features_test, target_test))\n",
    "print('La exactitud del conjunto de prueba es:', best_model.score(features_test, target_test))\n"
   ]
  },
  {
   "cell_type": "markdown",
   "metadata": {},
   "source": [
    "En esta etapa del proceso se hace la comprobación de la calidad de modelo, procesando el conjunto de entrenamiento y evaluando la exactitud de los tres conjuntos de dataset. La exactitud del conjunto de prueba es de 0.782."
   ]
  },
  {
   "cell_type": "markdown",
   "metadata": {},
   "source": [
    "Predicciones del Modelo"
   ]
  },
  {
   "cell_type": "code",
   "execution_count": 14,
   "metadata": {},
   "outputs": [
    {
     "name": "stdout",
     "output_type": "stream",
     "text": [
      "Las predicciones del conjunto de prueba son: \n",
      " [0 1 1 0 0 0 0 0 0 0 0 1 0 1 0 0 0 0 1 0 0 0 0 1 0 0 0 0 0 0 1 0 0 0 1 0 1\n",
      " 1 1 0 0 1 0 1 0 0 0 0 0 1 0 0 0 0 0 0 0 0 0 0 0 0 0 0 0 1 0 0 1 0 0 0 0 0\n",
      " 0 0 1 0 0 0 0 0 0 0 1 0 0 0 1 0 0 0 0 1 0 1 0 0 0 0 0 0 0 1 1 0 0 0 0 0 0\n",
      " 0 0 0 0 1 0 0 0 0 1 0 0 0 0 0 0 0 0 0 0 1 0 1 0 0 0 0 0 0 1 0 1 0 1 0 0 0\n",
      " 0 0 0 0 0 0 0 0 1 1 0 0 0 0 1 0 1 0 0 0 0 1 0 0 1 0 0 0 0 0 0 0 0 0 0 1 0\n",
      " 0 0 0 0 1 0 0 0 0 0 0 0 1 0 1 0 0 1 1 0 0 0 0 0 1 0 1 0 1 0 1 1 0 0 0 1 0\n",
      " 0 0 0 1 0 0 0 0 0 0 0 0 0 0 1 1 0 0 0 0 1 0 1 1 0 1 1 0 0 1 0 0 0 1 1 0 0\n",
      " 0 0 0 0 1 0 0 0 1 0 0 0 1 0 1 1 0 1 0 1 0 1 0 0 0 0 0 0 1 0 0 0 0 0 1 0 0\n",
      " 0 0 0 0 0 0 1 1 0 1 0 0 0 0 1 0 0 0 0 1 0 0 0 0 0 1 0 0 0 0 0 0 0 1 1 0 1\n",
      " 1 0 0 0 0 0 0 0 0 0 0 0 1 0 0 1 0 0 0 1 0 0 1 0 0 1 1 0 0 1 0 0 0 0 0 0 1\n",
      " 0 1 0 1 0 0 1 0 0 0 0 0 0 0 1 0 1 0 0 0 1 1 0 1 1 1 0 1 1 1 0 1 0 0 0 0 0\n",
      " 1 0 0 1 0 1 0 0 0 0 1 1 0 0 0 0 0 1 0 0 0 0 0 1 0 1 0 0 0 0 0 1 0 0 0 0 0\n",
      " 0 0 1 1 0 0 1 0 1 0 0 0 1 1 0 0 0 0 1 0 0 0 0 0 0 0 1 0 1 1 1 1 0 0 1 0 0\n",
      " 1 0 0 0 0 0 0 0 0 0 0 0 1 0 0 1 0 0 0 1 0 0 0 0 1 1 0 0 0 0 1 0 0 0 0 0 1\n",
      " 1 0 0 0 0 0 1 0 0 0 0 1 0 0 0 0 0 1 0 1 0 0 0 0 1 0 0 0 1 1 0 0 0 0 0 0 0\n",
      " 0 0 0 0 0 0 0 1 0 0 0 0 0 1 1 0 0 0 0 1 0 0 1 0 0 0 1 0 0 0 0 0 0 0 0 0 0\n",
      " 1 0 0 0 1 1 0 0 1 0 0 0 0 0 1 1 1 0 0 1 1 1 0 1 1 0 1 0 0 1 0 0 0 0 1 1 0\n",
      " 0 0 0 0 0 0 1 0 0 0 0 0 0 1]\n"
     ]
    }
   ],
   "source": [
    "target_predict = best_model.predict(features_test)\n",
    "print('Las predicciones del conjunto de prueba son:', \"\\n\" , target_predict)"
   ]
  },
  {
   "cell_type": "code",
   "execution_count": 15,
   "metadata": {},
   "outputs": [
    {
     "name": "stdout",
     "output_type": "stream",
     "text": [
      "0\n"
     ]
    }
   ],
   "source": [
    "mean_target_predict = statistics.mean(target_predict)\n",
    "print(mean_target_predict)"
   ]
  },
  {
   "cell_type": "markdown",
   "metadata": {},
   "source": [
    "6. Conclusión:\n",
    "\n",
    "El modelo que mejor se ajusta al proyecto es el Bosque Aleatorio, ya que tiene una gran exactitud debido a la cantidad de árboles de datos que procesa. En este dataset en particular, la exactitud es de 0.7869 con 20 estimadores (n_estimators), superando el umbral de exactitud de 0.75.\n",
    "\n",
    "Al analizar el conjunto de prueba con una exactitud de 0.7823, se concluye que el modelo tiene un 78.2% de aciertos y un 21.8% de error. Según el análisis, el plan recomendado para este grupo de usuarios es \"0\", que corresponde al plan \"Smart\"."
   ]
  }
 ],
 "metadata": {
  "kernelspec": {
   "display_name": "Python 3",
   "language": "python",
   "name": "python3"
  },
  "language_info": {
   "codemirror_mode": {
    "name": "ipython",
    "version": 3
   },
   "file_extension": ".py",
   "mimetype": "text/x-python",
   "name": "python",
   "nbconvert_exporter": "python",
   "pygments_lexer": "ipython3",
   "version": "3.11.7"
  }
 },
 "nbformat": 4,
 "nbformat_minor": 2
}
